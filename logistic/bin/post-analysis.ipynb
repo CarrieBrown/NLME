{
 "cells": [
  {
   "cell_type": "code",
   "execution_count": null,
   "metadata": {
    "collapsed": true
   },
   "outputs": [],
   "source": [
    "proc import datafile=\"iml_varest_total.csv\" \n",
    "out=iml_varest dbms=csv replace; \n",
    "getnames=yes; \n",
    "run;\n",
    "proc print data=iml_varest (obs=2); \n",
    "title \"IML Variance Estimates\"; run;\n",
    "\n",
    "proc import datafile=\"nlm_varest_total.csv\" \n",
    "out=nlm_varest dbms=csv replace; \n",
    "getnames=yes; \n",
    "run;\n",
    "proc print data=nlm_varest (obs=2); \n",
    "title \"NLM Variance Estimates\"; run;\n",
    "\n",
    "proc import datafile=\"iml_pred_total.csv\" \n",
    "out=iml_pred dbms=csv replace; \n",
    "getnames=yes; \n",
    "run;\n",
    "proc print data=iml_pred (obs=2); \n",
    "title \"IML Predictor Estimates\"; run;\n",
    "\n",
    "proc import datafile=\"nlm_pred_total.csv\"\n",
    "out=nlm_pred dbms=csv replace; \n",
    "getnames=yes; \n",
    "run;\n",
    "proc print data=nlm_pred (obs=2);\n",
    "title \"NLM Predictor Estimates\"; run;"
   ]
  },
  {
   "cell_type": "code",
   "execution_count": null,
   "metadata": {
    "collapsed": true
   },
   "outputs": [],
   "source": [
    "data iml_varest2;\n",
    " set iml_varest;\n",
    " drop simulation n_effects;\n",
    " output;\n",
    "\n",
    "proc iml;\n",
    " use nlm_varest;\n",
    " read all;\n",
    " \n",
    " a = Estimate[loc(Parameter=\"alpha\")];\n",
    " b = Estimate[loc(Parameter=\"beta\")];\n",
    " c = Estimate[loc(Parameter=\"gamma\")];\n",
    " d = Estimate[loc(Parameter=\"delta\")];\n",
    " var_ai = exp(Estimate[loc(Parameter=\"logva\")]);\n",
    " var_bi = exp(Estimate[loc(Parameter=\"logvb\")]);\n",
    " var_ci = exp(Estimate[loc(Parameter=\"logvc\")]);\n",
    " var_di = exp(Estimate[loc(Parameter=\"logvd\")]);\n",
    " var_res = exp(Estimate[loc(Parameter=\"logeuv\")]);\n",
    "\n",
    " nlm_varest2 = a || b || c || d || var_ai || var_bi || var_ci || var_di || var_res;\n",
    "               \n",
    " nlm_varest2_colnames = {\"a\", \"b\", \"c\", \"d\", \n",
    "                        \"var_ai\", \"var_bi\", \"var_ci\", \"var_di\", \"var_res\"};\n",
    " \n",
    " create nlm_varest2 from nlm_varest2 [colname=nlm_varest2_colnames];\n",
    " append from nlm_varest2;\n",
    " close nlm_varest2;\n",
    "run;\n",
    " \n",
    "/* data nlm_varest3;\n",
    " set nlm_varest2;\n",
    " method=\"nlm\";\n",
    " output;\n",
    "\n",
    "data output_varest;\n",
    " set nlm_varest3;\n",
    " output;\n",
    " set iml_varest2;\n",
    " output; \n",
    " drop simulation;\n",
    " \n",
    "data output_varest_wide;\n",
    " set output_varest;\n",
    "  */\n",
    "proc print data=iml_varest2 (obs=2);\n",
    "title \"Reformated IML Variance Estimates\"; run;\n",
    "\n",
    "proc print data=nlm_varest2 (obs=2);\n",
    "title \"Reformated NLM Variance Estimates\"; run;"
   ]
  },
  {
   "cell_type": "code",
   "execution_count": null,
   "metadata": {
    "collapsed": true
   },
   "outputs": [],
   "source": [
    "data output_varest;\n",
    " merge iml_varest2(rename=(a=iml_a b=iml_b c=iml_c d=iml_d var_ai=iml_var_ai var_bi=iml_var_bi var_ci=iml_var_ci var_di=iml_var_di var_res=iml_var_res))\n",
    "       nlm_varest2(rename=(a=nlm_a b=nlm_b c=nlm_c d=nlm_d var_ai=nlm_var_ai var_bi=nlm_var_bi var_ci=nlm_var_ci var_di=nlm_var_di var_res=nlm_var_res));\n",
    " \n",
    "proc print data=output_varest (obs=5);\n",
    "title \"Merged Variance Estimates\";\n",
    "run;"
   ]
  },
  {
   "cell_type": "code",
   "execution_count": null,
   "metadata": {
    "collapsed": true,
    "scrolled": false
   },
   "outputs": [],
   "source": [
    "proc sgplot data=output_varest;\n",
    "  density iml_a / type=kernel legendlabel='PL' lineattrs=(pattern=solid);\n",
    "  density nlm_a  / type=kernel legendlabel='Quad' lineattrs=(pattern=solid);\n",
    "  refline 10 / axis=x;\n",
    "  keylegend / location=inside position=topright across=1;\n",
    "  xaxis display=(nolabel);\n",
    "  title \"Estimate of a (true=10)\";\n",
    "  run;\n",
    "  \n",
    "proc sgplot data=output_varest;\n",
    "  density iml_b / type=kernel legendlabel='PL' lineattrs=(pattern=solid);\n",
    "  density nlm_b  / type=kernel legendlabel='Quad' lineattrs=(pattern=solid);\n",
    "  refline 30 / axis=x;\n",
    "  keylegend / location=inside position=topright across=1;\n",
    "  xaxis display=(nolabel);\n",
    "  title \"Estimate of b (true=30)\";\n",
    "  run;\n",
    "  \n",
    "proc sgplot data=output_varest;\n",
    "  density iml_c / type=kernel legendlabel='PL' lineattrs=(pattern=solid);\n",
    "  density nlm_c  / type=kernel legendlabel='Quad' lineattrs=(pattern=solid);\n",
    "  refline -5 / axis=x;\n",
    "  keylegend / location=inside position=topright across=1;\n",
    "  xaxis display=(nolabel);\n",
    "  title \"Estimate of c (true=-5)\";\n",
    "  run;\n",
    "  \n",
    "proc sgplot data=output_varest;\n",
    "  density iml_d / type=kernel legendlabel='PL' lineattrs=(pattern=solid);\n",
    "  density nlm_d  / type=kernel legendlabel='Quad' lineattrs=(pattern=solid);\n",
    "  refline 0.5 / axis=x;\n",
    "  keylegend / location=inside position=topright across=1;\n",
    "  xaxis display=(nolabel);\n",
    "  title \"Estimate of d (true=0.5)\";\n",
    "  run;"
   ]
  },
  {
   "cell_type": "code",
   "execution_count": null,
   "metadata": {
    "collapsed": true,
    "scrolled": false
   },
   "outputs": [],
   "source": [
    "proc sgplot data=output_varest;\n",
    "  density iml_var_ai / type=kernel legendlabel='PL' lineattrs=(pattern=solid);\n",
    "  density nlm_var_ai  / type=kernel legendlabel='Quad' lineattrs=(pattern=solid);\n",
    "  refline 0.5 / axis=x;\n",
    "  keylegend / location=inside position=topright across=1;\n",
    "  xaxis display=(nolabel);\n",
    "  title \"Variance of ai (true=0.5)\";\n",
    "  run;\n",
    "  \n",
    "proc sgplot data=output_varest;\n",
    "  density iml_var_bi / type=kernel legendlabel='PL' lineattrs=(pattern=solid);\n",
    "  density nlm_var_bi  / type=kernel legendlabel='Quad' lineattrs=(pattern=solid);\n",
    "  refline 2.5 / axis=x;\n",
    "  keylegend / location=inside position=topright across=1;\n",
    "  xaxis display=(nolabel);\n",
    "  title \"Variance of bi (true=2.5)\";\n",
    "  run;\n",
    "  \n",
    "proc sgplot data=output_varest;\n",
    "  density iml_var_ci / type=kernel legendlabel='PL' lineattrs=(pattern=solid);\n",
    "  density nlm_var_ci  / type=kernel legendlabel='Quad' lineattrs=(pattern=solid);\n",
    "  refline 0.05 / axis=x;\n",
    "  keylegend / location=inside position=topright across=1;\n",
    "  xaxis display=(nolabel);\n",
    "  title \"Variance of ci (true=0.05)\";\n",
    "  run;\n",
    "  \n",
    "proc sgplot data=output_varest;\n",
    "  density iml_var_di / type=kernel legendlabel='PL' lineattrs=(pattern=solid);\n",
    "  density nlm_var_di  / type=kernel legendlabel='Quad' lineattrs=(pattern=solid);\n",
    "  refline 0.005 / axis=x;\n",
    "  keylegend / location=inside position=topright across=1;\n",
    "  xaxis display=(nolabel);\n",
    "  title \"Variance of di (true=0.005)\";\n",
    "  run;\n",
    "  \n",
    "proc sgplot data=output_varest;\n",
    "  density iml_var_res / type=kernel legendlabel='PL' lineattrs=(pattern=solid);\n",
    "  density nlm_var_res  / type=kernel legendlabel='Quad' lineattrs=(pattern=solid);\n",
    "  refline 0.75 / axis=x;\n",
    "  keylegend / location=inside position=topright across=1;\n",
    "  xaxis display=(nolabel);\n",
    "  title \"Residual Variance (true=0.75)\";\n",
    "  run;"
   ]
  },
  {
   "cell_type": "code",
   "execution_count": null,
   "metadata": {
    "collapsed": true
   },
   "outputs": [],
   "source": [
    "proc sgplot data=iml_pred;\n",
    " histogram y / transparency=0.5;\n",
    " histogram ystar/ transparency=0.5;\n",
    "  keylegend / location=inside position=topright across=1;\n",
    "  xaxis display=(nolabel);\n",
    "  title \"Distribution of Y*\";\n",
    "  run;"
   ]
  },
  {
   "cell_type": "code",
   "execution_count": null,
   "metadata": {
    "collapsed": true
   },
   "outputs": [],
   "source": [
    "proc univariate data=output_varest;\n",
    "var iml_b nlm_b iml_c nlm_c iml_d nlm_d;\n",
    "*qqplot iml_b;\n",
    "title \"A Estimates\";\n",
    "run;"
   ]
  },
  {
   "cell_type": "code",
   "execution_count": null,
   "metadata": {
    "collapsed": true,
    "scrolled": true
   },
   "outputs": [],
   "source": [
    "proc univariate data=output_varest;\n",
    "var iml_var_ai iml_var_bi iml_var_ci iml_var_di nlm_var_ai nlm_var_bi nlm_var_ci nlm_var_di;\n",
    "*qqplot iml_b;\n",
    "title \"A Estimates\";\n",
    "run;"
   ]
  },
  {
   "cell_type": "code",
   "execution_count": null,
   "metadata": {
    "collapsed": true,
    "scrolled": false
   },
   "outputs": [],
   "source": [
    "proc univariate data=output_varest;\n",
    "var iml_var_res nlm_var_res;\n",
    "*qqplot iml_b;\n",
    "title \"A Estimates\";\n",
    "run;"
   ]
  },
  {
   "cell_type": "code",
   "execution_count": null,
   "metadata": {
    "collapsed": true
   },
   "outputs": [],
   "source": []
  }
 ],
 "metadata": {
  "kernelspec": {
   "display_name": "SAS-9.4",
   "language": "sas",
   "name": "sas-9.4"
  },
  "language_info": {
   "codemirror_mode": "sas",
   "file_extension": ".sas",
   "mimetype": "text/x-sas",
   "name": "sas"
  }
 },
 "nbformat": 4,
 "nbformat_minor": 2
}
